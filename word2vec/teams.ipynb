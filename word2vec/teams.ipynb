{
 "cells": [
  {
   "cell_type": "markdown",
   "metadata": {},
   "source": [
    "# Finding the Best Player of a Team"
   ]
  },
  {
   "cell_type": "markdown",
   "metadata": {},
   "source": [
    "### 1. Importing packages"
   ]
  },
  {
   "cell_type": "code",
   "execution_count": 1,
   "metadata": {},
   "outputs": [],
   "source": [
    "import numpy as np\n",
    "import pandas as pd\n",
    "from gensim.models import KeyedVectors\n",
    "\n",
    "from ipynb.fs.defs.capitals import cosine_similarity\n",
    "from ipynb.fs.defs.capitals import euclidean"
   ]
  },
  {
   "cell_type": "markdown",
   "metadata": {},
   "source": [
    "### 2. Loading Google News embeddings"
   ]
  },
  {
   "cell_type": "code",
   "execution_count": 2,
   "metadata": {},
   "outputs": [],
   "source": [
    "embeddings = KeyedVectors.load_word2vec_format('./src/GoogleNews-vectors-negative300.bin', binary = True)"
   ]
  },
  {
   "cell_type": "code",
   "execution_count": 3,
   "metadata": {},
   "outputs": [],
   "source": [
    "word_embeddings = {}\n",
    "for word in embeddings.vocab:\n",
    "    word_embeddings[word] = embeddings[word]"
   ]
  },
  {
   "cell_type": "markdown",
   "metadata": {},
   "source": [
    "### 3. Predicting relationships among words"
   ]
  },
  {
   "cell_type": "markdown",
   "metadata": {},
   "source": [
    "**Defining get player function**\n",
    "\n",
    "**Inputs** :  \n",
    "*ref_team*: a string (the team as reference)  \n",
    "*ref_player*: a string (the player of team as reference)  \n",
    "*des_team*: a string (the desired team)  \n",
    "*embeddings*: a dictionary where the keys are words and values are their embeddings  \n",
    "*method*: method to use in the model (either cosine similarity \"cos\" or euclidean distance \"d\")\n",
    "\n",
    "**Outputs** :  \n",
    "*des_player*: a dictionary with the most likely player and its similarity score"
   ]
  },
  {
   "cell_type": "code",
   "execution_count": 4,
   "metadata": {},
   "outputs": [],
   "source": [
    "def get_player(ref_team, ref_player, des_team, embeddings, method = \"cos\"):\n",
    "    \n",
    "    group = set([ref_team, ref_player, des_team])\n",
    "    ref_team_emb = embeddings[ref_team]\n",
    "    ref_player_emb = embeddings[ref_player]\n",
    "    des_team_emb = embeddings[des_team]\n",
    "\n",
    "    vec = ref_player_emb - ref_team_emb + des_team_emb\n",
    "\n",
    "    des_player = ''\n",
    "\n",
    "    if method == \"cos\":\n",
    "        similarity = -1\n",
    "        for word in embeddings.keys():\n",
    "            if word not in group:\n",
    "                word_emb = embeddings[word]\n",
    "                cur_similarity = cosine_similarity(vec, word_emb)\n",
    "                if cur_similarity > similarity:\n",
    "                    similarity = cur_similarity\n",
    "                    des_player = (word, similarity)\n",
    "    \n",
    "    if method == \"d\":\n",
    "        distance = 10000\n",
    "        for word in embeddings.keys():\n",
    "            if word not in group:\n",
    "                word_emb = embeddings[word]       \n",
    "                cur_distance = euclidean(vec, word_emb)\n",
    "                if cur_distance < distance:\n",
    "                    distance = cur_distance\n",
    "                    des_player = (word, distance)\n",
    "\n",
    "    return des_player"
   ]
  },
  {
   "cell_type": "markdown",
   "metadata": {},
   "source": [
    "**Predicting**"
   ]
  },
  {
   "cell_type": "code",
   "execution_count": 5,
   "metadata": {},
   "outputs": [],
   "source": [
    "ref_team = 'Barcelona'\n",
    "ref_player = 'Messi'\n",
    "des_team = 'Bayern'"
   ]
  },
  {
   "cell_type": "code",
   "execution_count": 6,
   "metadata": {},
   "outputs": [
    {
     "name": "stdout",
     "output_type": "stream",
     "text": [
      "('Schweinsteiger', 0.788617)\n",
      "('Schweinsteiger', 3.8047056)\n"
     ]
    }
   ],
   "source": [
    "predict_cos = get_player(ref_team, ref_player, des_team, word_embeddings, method = \"cos\")\n",
    "predict_d = get_player(ref_team, ref_player, des_team, word_embeddings, method = \"d\")\n",
    "\n",
    "print(predict_cos)\n",
    "print(predict_d)"
   ]
  },
  {
   "cell_type": "markdown",
   "metadata": {},
   "source": [
    "### 4. Finding Messi-like players for other teams"
   ]
  },
  {
   "cell_type": "raw",
   "metadata": {},
   "source": [
    "Finding the relevant key if needed:\n",
    "\n",
    "import re  \n",
    "for word in word_embeddings.keys():  \n",
    "    x = re.search('search_word', word)  \n",
    "    if x:  \n",
    "        print(word)"
   ]
  },
  {
   "cell_type": "markdown",
   "metadata": {},
   "source": [
    "**Loading data**"
   ]
  },
  {
   "cell_type": "code",
   "execution_count": 7,
   "metadata": {},
   "outputs": [
    {
     "data": {
      "text/html": [
       "<div>\n",
       "<style scoped>\n",
       "    .dataframe tbody tr th:only-of-type {\n",
       "        vertical-align: middle;\n",
       "    }\n",
       "\n",
       "    .dataframe tbody tr th {\n",
       "        vertical-align: top;\n",
       "    }\n",
       "\n",
       "    .dataframe thead th {\n",
       "        text-align: right;\n",
       "    }\n",
       "</style>\n",
       "<table border=\"1\" class=\"dataframe\">\n",
       "  <thead>\n",
       "    <tr style=\"text-align: right;\">\n",
       "      <th></th>\n",
       "      <th>ref_team</th>\n",
       "      <th>ref_player</th>\n",
       "      <th>des_team</th>\n",
       "    </tr>\n",
       "  </thead>\n",
       "  <tbody>\n",
       "    <tr>\n",
       "      <th>0</th>\n",
       "      <td>Barcelona</td>\n",
       "      <td>Lionel_Messi</td>\n",
       "      <td>Bayern_Munich</td>\n",
       "    </tr>\n",
       "    <tr>\n",
       "      <th>1</th>\n",
       "      <td>Barcelona</td>\n",
       "      <td>Lionel_Messi</td>\n",
       "      <td>Real_Madrid</td>\n",
       "    </tr>\n",
       "    <tr>\n",
       "      <th>2</th>\n",
       "      <td>Barcelona</td>\n",
       "      <td>Lionel_Messi</td>\n",
       "      <td>Juventus</td>\n",
       "    </tr>\n",
       "    <tr>\n",
       "      <th>3</th>\n",
       "      <td>Barcelona</td>\n",
       "      <td>Lionel_Messi</td>\n",
       "      <td>Chelsea</td>\n",
       "    </tr>\n",
       "    <tr>\n",
       "      <th>4</th>\n",
       "      <td>Barcelona</td>\n",
       "      <td>Lionel_Messi</td>\n",
       "      <td>Manchester_Utd</td>\n",
       "    </tr>\n",
       "  </tbody>\n",
       "</table>\n",
       "</div>"
      ],
      "text/plain": [
       "    ref_team    ref_player        des_team\n",
       "0  Barcelona  Lionel_Messi   Bayern_Munich\n",
       "1  Barcelona  Lionel_Messi     Real_Madrid\n",
       "2  Barcelona  Lionel_Messi        Juventus\n",
       "3  Barcelona  Lionel_Messi         Chelsea\n",
       "4  Barcelona  Lionel_Messi  Manchester_Utd"
      ]
     },
     "execution_count": 7,
     "metadata": {},
     "output_type": "execute_result"
    }
   ],
   "source": [
    "data = pd.read_csv('teams.txt', delimiter=' ')\n",
    "data.columns = ['ref_team', 'ref_player', 'des_team']\n",
    "\n",
    "data.head()"
   ]
  },
  {
   "cell_type": "markdown",
   "metadata": {},
   "source": [
    "**Finding players**"
   ]
  },
  {
   "cell_type": "code",
   "execution_count": 8,
   "metadata": {},
   "outputs": [
    {
     "name": "stdout",
     "output_type": "stream",
     "text": [
      "                   Team              Player\n",
      "0         Bayern_Munich        Arjen_Robben\n",
      "1           Real_Madrid   Cristiano_Ronaldo\n",
      "2              Juventus  Zlatan_Ibrahimovic\n",
      "3               Chelsea        Wayne_Rooney\n",
      "4        Manchester_Utd        Wayne_Rooney\n",
      "5       Atletico_Madrid     Fernando_Torres\n",
      "6   Paris_Saint_Germain       Didier_Drogba\n",
      "7              Dortmund      Lukas_Podolski\n",
      "8              AC_Milan          Ronaldinho\n",
      "9           Inter_Milan        Samuel_Eto'o\n",
      "10              Arsenal        Wayne_Rooney\n",
      "11              AS_Roma        Diego_Milito\n"
     ]
    }
   ],
   "source": [
    "df = pd.DataFrame(columns=['Team','Player'])\n",
    "for i, row in data.iterrows():\n",
    "    ref_team = data['ref_team'][i]\n",
    "    ref_player = data['ref_player'][i]\n",
    "    des_team =  data['des_team'][i]\n",
    "    \n",
    "    predicted_player, _ = get_player(ref_team, ref_player, des_team, word_embeddings)\n",
    "    \n",
    "    result = {'Team':des_team, 'Player':predicted_player}\n",
    "    df = df.append(result,ignore_index=True)\n",
    "\n",
    "print(df)"
   ]
  }
 ],
 "metadata": {
  "kernelspec": {
   "display_name": "Python 3",
   "language": "python",
   "name": "python3"
  },
  "language_info": {
   "codemirror_mode": {
    "name": "ipython",
    "version": 3
   },
   "file_extension": ".py",
   "mimetype": "text/x-python",
   "name": "python",
   "nbconvert_exporter": "python",
   "pygments_lexer": "ipython3",
   "version": "3.8.3"
  }
 },
 "nbformat": 4,
 "nbformat_minor": 4
}
