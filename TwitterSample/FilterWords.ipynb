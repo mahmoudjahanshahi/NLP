{
 "cells": [
  {
   "cell_type": "markdown",
   "metadata": {},
   "source": [
    "# Filtering Words by Ratio of Positive to Negative Counts"
   ]
  },
  {
   "cell_type": "markdown",
   "metadata": {},
   "source": [
    "Defining the level of positiveness or negativeness, without calculating the log likelihood, by comparing the positive to negative frequency of the word and filtering a subset of words that have a minimum/maximum ratio of positivity/negativity."
   ]
  },
  {
   "cell_type": "markdown",
   "metadata": {},
   "source": [
    "## 1. Initializing"
   ]
  },
  {
   "cell_type": "code",
   "execution_count": 22,
   "metadata": {},
   "outputs": [],
   "source": [
    "import nltk\n",
    "from nltk.corpus import twitter_samples\n",
    "from nltk.corpus import stopwords\n",
    "from nltk.stem import PorterStemmer \n",
    "from nltk.tokenize import TweetTokenizer\n",
    "import re\n",
    "import string\n",
    "import numpy as np"
   ]
  },
  {
   "cell_type": "code",
   "execution_count": 23,
   "metadata": {},
   "outputs": [
    {
     "name": "stderr",
     "output_type": "stream",
     "text": [
      "[nltk_data] Downloading package twitter_samples to\n",
      "[nltk_data]     C:\\Users\\Mahmoud\\AppData\\Roaming\\nltk_data...\n",
      "[nltk_data]   Package twitter_samples is already up-to-date!\n",
      "[nltk_data] Downloading package stopwords to\n",
      "[nltk_data]     C:\\Users\\Mahmoud\\AppData\\Roaming\\nltk_data...\n",
      "[nltk_data]   Package stopwords is already up-to-date!\n"
     ]
    },
    {
     "data": {
      "text/plain": [
       "True"
      ]
     },
     "execution_count": 23,
     "metadata": {},
     "output_type": "execute_result"
    }
   ],
   "source": [
    "nltk.download('twitter_samples')\n",
    "nltk.download('stopwords')"
   ]
  },
  {
   "cell_type": "code",
   "execution_count": 24,
   "metadata": {},
   "outputs": [],
   "source": [
    "postw = twitter_samples.strings('positive_tweets.json')\n",
    "negtw = twitter_samples.strings('negative_tweets.json')\n",
    "x = postw + negtw\n",
    "y = np.append(np.ones((len(postw), 1)), np.zeros((len(negtw), 1)), axis=0)"
   ]
  },
  {
   "cell_type": "markdown",
   "metadata": {},
   "source": [
    "## 2. Tweet processing function"
   ]
  },
  {
   "cell_type": "markdown",
   "metadata": {},
   "source": [
    "**Input**: a string containing a tweet  \n",
    "**Output**: a list of words containing the processed tweet"
   ]
  },
  {
   "cell_type": "code",
   "execution_count": 25,
   "metadata": {},
   "outputs": [],
   "source": [
    "def process_tweet(tweet):\n",
    "    \n",
    "    stemmer = PorterStemmer()\n",
    "    stopwords_english = stopwords.words('english')\n",
    "    \n",
    "    # removing hyperlinks, Twitter marks and styles\n",
    "    tweet = re.sub(r'\\$\\w*', '', tweet)\n",
    "    tweet = re.sub(r'^RT[\\s]+', '', tweet)\n",
    "    tweet = re.sub(r'https?:\\/\\/.*[\\r\\n]*', '', tweet)\n",
    "    tweet = re.sub(r'#', '', tweet)\n",
    "    \n",
    "    # tokenizing tweets\n",
    "    tokenizer = TweetTokenizer(preserve_case=False, strip_handles=True, reduce_len=True)\n",
    "    tweet_tokens = tokenizer.tokenize(tweet)\n",
    "\n",
    "    # removing stop words and punctuations, stemming\n",
    "    tweets_clean = []\n",
    "    for word in tweet_tokens:\n",
    "        if (word not in stopwords_english and  \n",
    "                word not in string.punctuation):  \n",
    "            stem_word = stemmer.stem(word) \n",
    "            tweets_clean.append(stem_word)\n",
    "\n",
    "    return tweets_clean"
   ]
  },
  {
   "cell_type": "markdown",
   "metadata": {},
   "source": [
    "## 3. Building word frequencies"
   ]
  },
  {
   "cell_type": "markdown",
   "metadata": {},
   "source": [
    "Defining building word frequencies function.\n",
    "\n",
    "**Input**: a list of tweets, an m x 1 array with the sentiment label of each tweet (either 0 or 1)  \n",
    "**Output**: a dictionary mapping each (word, sentiment) pair to its frequency"
   ]
  },
  {
   "cell_type": "code",
   "execution_count": 26,
   "metadata": {},
   "outputs": [],
   "source": [
    "def build_freqs(tweets, ys):\n",
    "\n",
    "    yslist = np.squeeze(ys).tolist()\n",
    "\n",
    "    freqs = {}\n",
    "    for y, tweet in zip(yslist, tweets):\n",
    "        for word in process_tweet(tweet):\n",
    "            pair = (word, y)\n",
    "            freqs[pair] = freqs.get(pair, 0) + 1\n",
    "\n",
    "    return freqs"
   ]
  },
  {
   "cell_type": "markdown",
   "metadata": {},
   "source": [
    "Creating frequency dictionary:"
   ]
  },
  {
   "cell_type": "code",
   "execution_count": 27,
   "metadata": {},
   "outputs": [
    {
     "name": "stdout",
     "output_type": "stream",
     "text": [
      "type(freqs) = <class 'dict'>\n",
      "len(freqs) = 13067\n"
     ]
    }
   ],
   "source": [
    "freqs = build_freqs(x, y)\n",
    "print(\"type(freqs) = \" + str(type(freqs)))\n",
    "print(\"len(freqs) = \" + str(len(freqs.keys())))"
   ]
  },
  {
   "cell_type": "markdown",
   "metadata": {},
   "source": [
    "Building lookup function\n",
    "\n",
    "**Input**: a dictionary with the frequency of each pair (or tuple), the word to look up, the label corresponding to the word  \n",
    "**Output**: the number of times the word with its corresponding label appears"
   ]
  },
  {
   "cell_type": "code",
   "execution_count": 28,
   "metadata": {},
   "outputs": [],
   "source": [
    "def lookup(freqs, word, label):\n",
    "\n",
    "    n = 0 \n",
    "\n",
    "    pair = (word, label)\n",
    "    if (pair in freqs):\n",
    "        n = freqs[pair]\n",
    "\n",
    "    return n"
   ]
  },
  {
   "cell_type": "markdown",
   "metadata": {},
   "source": [
    "## 4. Get ratio function"
   ]
  },
  {
   "cell_type": "markdown",
   "metadata": {},
   "source": [
    "**Input**: a dictionary containing the words, a string to lookup  \n",
    "**Output**: a dictionary with keys 'positive', 'negative', and 'ratio'."
   ]
  },
  {
   "cell_type": "code",
   "execution_count": 29,
   "metadata": {},
   "outputs": [],
   "source": [
    "def get_ratio(freqs, word):\n",
    "    \n",
    "    pos_neg_ratio = {'positive': 0, 'negative': 0, 'ratio': 0.0}\n",
    "\n",
    "    pos_neg_ratio['positive'] = lookup(freqs, word, 1)\n",
    "    pos_neg_ratio['negative'] = lookup(freqs, word, 0)\n",
    "\n",
    "    pos_neg_ratio['ratio'] = (pos_neg_ratio['positive']+1)/(pos_neg_ratio['negative']+1)\n",
    "\n",
    "    return pos_neg_ratio"
   ]
  },
  {
   "cell_type": "markdown",
   "metadata": {},
   "source": [
    "## 5. Get words by threshold"
   ]
  },
  {
   "cell_type": "markdown",
   "metadata": {},
   "source": [
    "**Input**: a dictionary of words, label( 1 for positive, 0 for negative), ratio that will be used as the cutoff for including a word in the returned dictionary  \n",
    "**Output**: a dictionary containing the word and information on its positive count, negative count, and ratio of positive to negative counts"
   ]
  },
  {
   "cell_type": "code",
   "execution_count": 30,
   "metadata": {},
   "outputs": [],
   "source": [
    "def get_words_by_threshold(freqs, label, threshold):\n",
    "\n",
    "    word_list = {}\n",
    "\n",
    "    for key in freqs.keys():\n",
    "        word, _ = key\n",
    "        pos_neg_ratio = get_ratio(freqs, word)\n",
    "        if label == 1 and pos_neg_ratio['ratio'] >= threshold:\n",
    "            word_list[word]= pos_neg_ratio\n",
    "        elif label == 0 and pos_neg_ratio['ratio'] <= threshold:\n",
    "            word_list[word] = pos_neg_ratio\n",
    "            \n",
    "    return word_list"
   ]
  },
  {
   "cell_type": "markdown",
   "metadata": {},
   "source": [
    "## 6. Testing the function"
   ]
  },
  {
   "cell_type": "markdown",
   "metadata": {},
   "source": [
    "Finding positive words at or above a threshold"
   ]
  },
  {
   "cell_type": "code",
   "execution_count": 31,
   "metadata": {},
   "outputs": [
    {
     "data": {
      "text/plain": [
       "{'followfriday': {'positive': 25, 'negative': 0, 'ratio': 26.0},\n",
       " ':)': {'positive': 3568, 'negative': 2, 'ratio': 1189.6666666666667},\n",
       " 'flipkartfashionfriday': {'positive': 17, 'negative': 0, 'ratio': 18.0},\n",
       " ':D': {'positive': 629, 'negative': 0, 'ratio': 630.0},\n",
       " ':p': {'positive': 137, 'negative': 0, 'ratio': 138.0},\n",
       " ':-)': {'positive': 692, 'negative': 0, 'ratio': 693.0},\n",
       " \"here'\": {'positive': 25, 'negative': 0, 'ratio': 26.0},\n",
       " 'youth': {'positive': 19, 'negative': 0, 'ratio': 20.0},\n",
       " 'bam': {'positive': 44, 'negative': 1, 'ratio': 22.5},\n",
       " 'warsaw': {'positive': 44, 'negative': 0, 'ratio': 45.0},\n",
       " ';)': {'positive': 27, 'negative': 0, 'ratio': 28.0},\n",
       " 'stat': {'positive': 60, 'negative': 0, 'ratio': 61.0},\n",
       " 'via': {'positive': 69, 'negative': 1, 'ratio': 35.0},\n",
       " 'fback': {'positive': 27, 'negative': 0, 'ratio': 28.0}}"
      ]
     },
     "execution_count": 31,
     "metadata": {},
     "output_type": "execute_result"
    }
   ],
   "source": [
    "get_words_by_threshold(freqs, label=1, threshold=15)"
   ]
  },
  {
   "cell_type": "markdown",
   "metadata": {},
   "source": [
    "Finding negative words at or below a threshold"
   ]
  },
  {
   "cell_type": "code",
   "execution_count": 32,
   "metadata": {},
   "outputs": [
    {
     "data": {
      "text/plain": [
       "{':(': {'positive': 1, 'negative': 4571, 'ratio': 0.0004374453193350831},\n",
       " ':-(': {'positive': 0, 'negative': 493, 'ratio': 0.0020242914979757085},\n",
       " '♛': {'positive': 0, 'negative': 210, 'ratio': 0.004739336492890996},\n",
       " '》': {'positive': 0, 'negative': 210, 'ratio': 0.004739336492890996}}"
      ]
     },
     "execution_count": 32,
     "metadata": {},
     "output_type": "execute_result"
    }
   ],
   "source": [
    "get_words_by_threshold(freqs, label=0, threshold=0.02)"
   ]
  }
 ],
 "metadata": {
  "kernelspec": {
   "display_name": "Python 3",
   "language": "python",
   "name": "python3"
  },
  "language_info": {
   "codemirror_mode": {
    "name": "ipython",
    "version": 3
   },
   "file_extension": ".py",
   "mimetype": "text/x-python",
   "name": "python",
   "nbconvert_exporter": "python",
   "pygments_lexer": "ipython3",
   "version": "3.8.3"
  }
 },
 "nbformat": 4,
 "nbformat_minor": 4
}
