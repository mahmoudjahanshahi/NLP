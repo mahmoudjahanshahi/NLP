{
 "cells": [
  {
   "cell_type": "markdown",
   "metadata": {},
   "source": [
    "# Auto Correct"
   ]
  },
  {
   "cell_type": "markdown",
   "metadata": {},
   "source": [
    "- Getting a word count given a corpus\n",
    "- Getting a word probability in the corpus\n",
    "- Manipulating strings\n",
    "- Filtering strings\n",
    "- Implementing Minimum edit distance to compare strings and to help find the optimal path for the edits\n",
    "\n",
    "[**1. Data Preprocessing**](#1.-Data-Preprocessing)  \n",
    "[**2. String Manipulations**](#2.-String-Manipulations)"
   ]
  },
  {
   "cell_type": "markdown",
   "metadata": {},
   "source": [
    "## 1. Data Preprocessing"
   ]
  },
  {
   "cell_type": "markdown",
   "metadata": {},
   "source": [
    "### Importing packages"
   ]
  },
  {
   "cell_type": "code",
   "execution_count": 1,
   "metadata": {},
   "outputs": [],
   "source": [
    "import re\n",
    "from collections import Counter\n",
    "import numpy as np\n",
    "import pandas as pd"
   ]
  },
  {
   "cell_type": "markdown",
   "metadata": {},
   "source": [
    "### Defining process_data function\n",
    "\n",
    "**Inputs** :  \n",
    "- *file_name*: a file which is found in the current directory and will be read in.\n",
    "\n",
    "**Outputs** :  \n",
    "- *words*: a list containing all the words in the corpus (text file we read) in lower case."
   ]
  },
  {
   "cell_type": "code",
   "execution_count": 12,
   "metadata": {},
   "outputs": [],
   "source": [
    "def process_data(file_name):\n",
    "    \n",
    "    words = []\n",
    "    \n",
    "    with open(file_name , \"r\", encoding=\"utf8\") as f:\n",
    "        text = f.read()\n",
    "    text_lower = str.lower(text)\n",
    "    words = re.findall(r'\\w+', text_lower)\n",
    "    \n",
    "    return words"
   ]
  },
  {
   "cell_type": "markdown",
   "metadata": {},
   "source": [
    "**Reading the file and building a vocabulary set using the words list**"
   ]
  },
  {
   "cell_type": "code",
   "execution_count": 13,
   "metadata": {},
   "outputs": [
    {
     "name": "stdout",
     "output_type": "stream",
     "text": [
      "The first ten words in the text are: \n",
      "['the', 'project', 'gutenberg', 'ebook', 'of', 'the', 'brothers', 'karamazov', 'by', 'fyodor']\n",
      "There are 12461 unique words in the vocabulary.\n"
     ]
    }
   ],
   "source": [
    "word_l = process_data('./src/Karamazov.txt')\n",
    "vocab = set(word_l)\n",
    "print(f\"The first ten words in the text are: \\n{word_l[0:10]}\")\n",
    "print(f\"There are {len(vocab)} unique words in the vocabulary.\")"
   ]
  },
  {
   "cell_type": "markdown",
   "metadata": {},
   "source": [
    "### Defining get_count function\n",
    "\n",
    "**Inputs** :  \n",
    "- *word_l*: a set of words representing the corpus. \n",
    "\n",
    "**Outputs** :  \n",
    "- *word_count_dict*: the wordcount dictionary where key is the word and value is its frequency."
   ]
  },
  {
   "cell_type": "code",
   "execution_count": 24,
   "metadata": {},
   "outputs": [],
   "source": [
    "def get_count(word_l):\n",
    "\n",
    "    word_count_dict = {}\n",
    "\n",
    "    for w in word_l:\n",
    "        word_count_dict[w] = word_count_dict.get(w,0)+1    \n",
    "\n",
    "    return word_count_dict"
   ]
  },
  {
   "cell_type": "markdown",
   "metadata": {},
   "source": [
    "**Building the words count dictionary**"
   ]
  },
  {
   "cell_type": "code",
   "execution_count": 22,
   "metadata": {},
   "outputs": [
    {
     "name": "stdout",
     "output_type": "stream",
     "text": [
      "There are 12461 key values pairs\n",
      "The count for the word 'love' is 467\n"
     ]
    }
   ],
   "source": [
    "word_count_dict = get_count(word_l)\n",
    "print(f\"There are {len(word_count_dict)} key values pairs\")\n",
    "print(f\"The count for the word 'love' is {word_count_dict.get('love',0)}\")"
   ]
  },
  {
   "cell_type": "markdown",
   "metadata": {},
   "source": [
    "### Defining get_probs function\n",
    "\n",
    "**Inputs** :  \n",
    "- *word_count_dict*: the wordcount dictionary where key is the word and value is its frequency. \n",
    "\n",
    "**Outputs** :  \n",
    "- *probs*: a dictionary where keys are the words and the values are the probability that a word will occur."
   ]
  },
  {
   "cell_type": "code",
   "execution_count": 25,
   "metadata": {},
   "outputs": [],
   "source": [
    "def get_probs(word_count_dict):\n",
    "\n",
    "    probs = {}\n",
    "    \n",
    "    for w in word_count_dict.keys():\n",
    "        probs[w] = word_count_dict[w]/sum(word_count_dict.values())\n",
    "\n",
    "    return probs"
   ]
  },
  {
   "cell_type": "markdown",
   "metadata": {},
   "source": [
    "**Building the words probability dictionary**"
   ]
  },
  {
   "cell_type": "code",
   "execution_count": 26,
   "metadata": {},
   "outputs": [
    {
     "name": "stdout",
     "output_type": "stream",
     "text": [
      "Length of probs is 12461\n",
      "P('love') is 0.0013\n"
     ]
    }
   ],
   "source": [
    "probs = get_probs(word_count_dict)\n",
    "print(f\"Length of probs is {len(probs)}\")\n",
    "print(f\"P('love') is {probs['love']:.4f}\")"
   ]
  },
  {
   "cell_type": "markdown",
   "metadata": {},
   "source": [
    "## 2. String Manipulations"
   ]
  }
 ],
 "metadata": {
  "kernelspec": {
   "display_name": "Python 3",
   "language": "python",
   "name": "python3"
  },
  "language_info": {
   "codemirror_mode": {
    "name": "ipython",
    "version": 3
   },
   "file_extension": ".py",
   "mimetype": "text/x-python",
   "name": "python",
   "nbconvert_exporter": "python",
   "pygments_lexer": "ipython3",
   "version": "3.8.5"
  }
 },
 "nbformat": 4,
 "nbformat_minor": 4
}
