{
 "cells": [
  {
   "cell_type": "markdown",
   "metadata": {},
   "source": [
    "# Minimum Edit Distance"
   ]
  },
  {
   "cell_type": "markdown",
   "metadata": {},
   "source": [
    "### Importing packages"
   ]
  },
  {
   "cell_type": "code",
   "execution_count": 1,
   "metadata": {},
   "outputs": [],
   "source": [
    "import numpy as np\n",
    "import pandas as pd"
   ]
  },
  {
   "cell_type": "markdown",
   "metadata": {},
   "source": [
    "### Defining min_edit_distance function\n",
    "\n",
    "A function that outputs the minimum number of edits required to convert a string into another string.\n",
    "\n",
    "**Inputs** :  \n",
    "- *source*: a string corresponding to the string we are starting with\n",
    "- *target*: a string corresponding to the string we want to end with\n",
    "- *ins_cost*: an integer setting the insert cost\n",
    "- *del_cost*: an integer setting the delete cost\n",
    "- *rep_cost*: an integer setting the replace cost\n",
    "\n",
    "**Outputs** :  \n",
    "- *D*: a matrix of len(source)+1 by len(target)+1 containing minimum edit distances\n",
    "- *med*: the minimum edit distance (med) required to convert the source string to the target"
   ]
  },
  {
   "cell_type": "code",
   "execution_count": 2,
   "metadata": {},
   "outputs": [],
   "source": [
    "def min_edit_distance(source, target, ins_cost = 1, del_cost = 1, rep_cost = 2):\n",
    "\n",
    "    m = len(source) \n",
    "    n = len(target) \n",
    "\n",
    "    D = np.zeros((m+1, n+1), dtype=int) \n",
    "    \n",
    "    for row in range(m+1):\n",
    "        D[row,0] = row * del_cost\n",
    "        \n",
    "    for col in range(n+1):\n",
    "        D[0,col] = col * ins_cost\n",
    "        \n",
    "    for row in range(m): \n",
    "        for col in range(n):\n",
    "            r_cost = rep_cost\n",
    "            if source[row] == target[col]:\n",
    "                r_cost = 0\n",
    "            \n",
    "            D[row+1,col+1] = min(D[row,col] + r_cost , D[row+1,col] + ins_cost , D[row,col+1] + del_cost)\n",
    "          \n",
    "    med = D[m,n]\n",
    "    \n",
    "    return D, med"
   ]
  },
  {
   "cell_type": "markdown",
   "metadata": {},
   "source": [
    "**Testing the function**"
   ]
  },
  {
   "cell_type": "code",
   "execution_count": 3,
   "metadata": {},
   "outputs": [
    {
     "name": "stdout",
     "output_type": "stream",
     "text": [
      "Source:  play \n",
      "Target:  stay \n",
      "\n",
      "Minimum edits:  4 \n",
      "\n",
      "   #  s  t  a  y\n",
      "#  0  1  2  3  4\n",
      "p  1  2  3  4  5\n",
      "l  2  3  4  5  6\n",
      "a  3  4  5  4  5\n",
      "y  4  5  6  5  4 \n",
      "\n",
      "Source:  eer \n",
      "Target:  near \n",
      "\n",
      "Minimum edits:  3 \n",
      "\n",
      "   #  n  e  a  r\n",
      "#  0  1  2  3  4\n",
      "e  1  2  1  2  3\n",
      "e  2  3  2  3  4\n",
      "r  3  4  3  4  3 \n",
      "\n",
      "Source:  what a shame! \n",
      "Target:  what is a shame? \n",
      "\n",
      "Minimum edits:  5 \n",
      "\n",
      "    #   w   h   a  t     i  s     a       s   h   a   m   e   ?\n",
      "#   0   1   2   3  4  5  6  7  8  9  10  11  12  13  14  15  16\n",
      "w   1   0   1   2  3  4  5  6  7  8   9  10  11  12  13  14  15\n",
      "h   2   1   0   1  2  3  4  5  6  7   8   9  10  11  12  13  14\n",
      "a   3   2   1   0  1  2  3  4  5  6   7   8   9  10  11  12  13\n",
      "t   4   3   2   1  0  1  2  3  4  5   6   7   8   9  10  11  12\n",
      "    5   4   3   2  1  0  1  2  3  4   5   6   7   8   9  10  11\n",
      "a   6   5   4   3  2  1  2  3  4  3   4   5   6   7   8   9  10\n",
      "    7   6   5   4  3  2  3  4  3  4   3   4   5   6   7   8   9\n",
      "s   8   7   6   5  4  3  4  3  4  5   4   3   4   5   6   7   8\n",
      "h   9   8   7   6  5  4  5  4  5  6   5   4   3   4   5   6   7\n",
      "a  10   9   8   7  6  5  6  5  6  5   6   5   4   3   4   5   6\n",
      "m  11  10   9   8  7  6  7  6  7  6   7   6   5   4   3   4   5\n",
      "e  12  11  10   9  8  7  8  7  8  7   8   7   6   5   4   3   4\n",
      "!  13  12  11  10  9  8  9  8  9  8   9   8   7   6   5   4   5 \n",
      "\n"
     ]
    }
   ],
   "source": [
    "strings = [('play','stay'),('eer','near'),('what a shame!','what is a shame?')]\n",
    "for source,target in strings:\n",
    "    print(\"Source: \",source,\"\\nTarget: \",target,\"\\n\")\n",
    "    matrix, min_edits = min_edit_distance(source, target)\n",
    "    print(\"Minimum edits: \",min_edits, \"\\n\")\n",
    "    idx = list('#' + source)\n",
    "    cols = list('#' + target)\n",
    "    df = pd.DataFrame(matrix, index=idx, columns= cols)\n",
    "    print(df,\"\\n\")"
   ]
  }
 ],
 "metadata": {
  "kernelspec": {
   "display_name": "Python 3",
   "language": "python",
   "name": "python3"
  },
  "language_info": {
   "codemirror_mode": {
    "name": "ipython",
    "version": 3
   },
   "file_extension": ".py",
   "mimetype": "text/x-python",
   "name": "python",
   "nbconvert_exporter": "python",
   "pygments_lexer": "ipython3",
   "version": "3.8.5"
  }
 },
 "nbformat": 4,
 "nbformat_minor": 4
}
